{
 "cells": [
  {
   "cell_type": "code",
   "execution_count": 2,
   "metadata": {
    "collapsed": true
   },
   "outputs": [],
   "source": [
    "from sklearn.ensemble import RandomForestClassifier\n",
    "import numpy as np\n",
    "import arcpy as arcpy\n",
    "import arcpy.da as da\n",
    "from arcpy import env\n",
    "import pandas as pd\n",
    "import matplotlib.pyplot as plt\n",
    "import arcgisscripting as arc\n",
    "import SSUtilities as utils\n",
    "import os as os\n",
    "import pydot\n",
    "from sklearn.tree import export_graphviz\n",
    "from sklearn.model_selection import train_test_split"
   ]
  },
  {
   "cell_type": "code",
   "execution_count": 3,
   "metadata": {
    "collapsed": true
   },
   "outputs": [],
   "source": [
    "env.workspace = r\"D:\\Document\\ArcGIS\\Projects\\air\\air.gdb\"\n",
    "\n",
    "datasetList = arcpy.ListFeatureClasses()"
   ]
  },
  {
   "cell_type": "code",
   "execution_count": 4,
   "metadata": {},
   "outputs": [
    {
     "data": {
      "text/plain": [
       "['preprop_data', 'test_data', 'PotentionPrediction', 'PotentionPrediction0']"
      ]
     },
     "execution_count": 4,
     "metadata": {},
     "output_type": "execute_result"
    }
   ],
   "source": [
    "datasetList"
   ]
  },
  {
   "cell_type": "code",
   "execution_count": 5,
   "metadata": {},
   "outputs": [
    {
     "data": {
      "text/plain": [
       "'test_data'"
      ]
     },
     "execution_count": 5,
     "metadata": {},
     "output_type": "execute_result"
    }
   ],
   "source": [
    "arcpy.ListFeatureClasses()[1]"
   ]
  },
  {
   "cell_type": "code",
   "execution_count": 4,
   "metadata": {
    "collapsed": true
   },
   "outputs": [],
   "source": [
    "input = r'preprop_data'"
   ]
  },
  {
   "cell_type": "code",
   "execution_count": 28,
   "metadata": {
    "collapsed": true
   },
   "outputs": [],
   "source": [
    "# describe X as features\n",
    "X = ['lineament_dens', 'drainage_dens', 'curah_hujan',\n",
    "       'slope', 'elevasi',  'litologi_Alluvial',\n",
    "       'litologi_Batigamping', 'litologi_Batuan_Sedimen',\n",
    "       'litologi_Batugamping', 'litologi_Breksi_Gunung_Api',\n",
    "       'litologi_Breksi_dan_Piroklastik_Muda',\n",
    "       'litologi_Breksi_dan_Piroklastik_Tua', 'litologi_Volkanoklastik']\n",
    "# describe y as target/class\n",
    "y = ['potensi']\n",
    "\n",
    "allvars = X + y"
   ]
  },
  {
   "cell_type": "code",
   "execution_count": 29,
   "metadata": {},
   "outputs": [
    {
     "data": {
      "text/plain": [
       "['lineament_dens',\n",
       " 'drainage_dens',\n",
       " 'curah_hujan',\n",
       " 'slope',\n",
       " 'elevasi',\n",
       " 'litologi_Alluvial',\n",
       " 'litologi_Batigamping',\n",
       " 'litologi_Batuan_Sedimen',\n",
       " 'litologi_Batugamping',\n",
       " 'litologi_Breksi_Gunung_Api',\n",
       " 'litologi_Breksi_dan_Piroklastik_Muda',\n",
       " 'litologi_Breksi_dan_Piroklastik_Tua',\n",
       " 'litologi_Volkanoklastik',\n",
       " 'potensi']"
      ]
     },
     "execution_count": 29,
     "metadata": {},
     "output_type": "execute_result"
    }
   ],
   "source": [
    "allvars"
   ]
  },
  {
   "cell_type": "code",
   "execution_count": 30,
   "metadata": {
    "collapsed": true
   },
   "outputs": [],
   "source": [
    "# convert data to shapefile\n",
    "trainFC = da.FeatureClassToNumPyArray(input, [\"SHAPE@XY\"] + allvars)\n",
    "spatRef = arcpy.Describe(input).spatialReference"
   ]
  },
  {
   "cell_type": "code",
   "execution_count": 31,
   "metadata": {},
   "outputs": [
    {
     "data": {
      "text/plain": [
       "array([([108.1375 ,  -7.4409 ], 0.416742, 169.963 , 250, 3, 5, 0, 0, 1, 0, 0, 0, 0, 0, 1),\n",
       "       ([108.1426 ,  -7.4409 ], 0.416742, 169.963 , 250, 2, 6, 0, 0, 1, 0, 0, 0, 0, 0, 1),\n",
       "       ([108.1476 ,  -7.4409 ], 0.443628, 169.963 , 250, 2, 6, 0, 0, 1, 0, 0, 0, 0, 0, 1),\n",
       "       ...,\n",
       "       ([108.1626 ,  -7.32347], 0.013443, 189.9586, 350, 1, 7, 0, 0, 0, 0, 1, 0, 0, 0, 0),\n",
       "       ([108.1676 ,  -7.32347], 0.013443, 189.9586, 350, 2, 7, 0, 0, 0, 0, 1, 0, 0, 0, 0),\n",
       "       ([108.1626 ,  -7.3198 ], 0.013443, 189.9586, 350, 1, 7, 0, 0, 0, 0, 1, 0, 0, 0, 0)],\n",
       "      dtype=[('SHAPE@XY', '<f8', (2,)), ('lineament_dens', '<f8'), ('drainage_dens', '<f8'), ('curah_hujan', '<i4'), ('slope', '<i4'), ('elevasi', '<i4'), ('litologi_Alluvial', '<i4'), ('litologi_Batigamping', '<i4'), ('litologi_Batuan_Sedimen', '<i4'), ('litologi_Batugamping', '<i4'), ('litologi_Breksi_Gunung_Api', '<i4'), ('litologi_Breksi_dan_Piroklastik_Muda', '<i4'), ('litologi_Breksi_dan_Piroklastik_Tua', '<i4'), ('litologi_Volkanoklastik', '<i4'), ('potensi', '<i4')])"
      ]
     },
     "execution_count": 31,
     "metadata": {},
     "output_type": "execute_result"
    }
   ],
   "source": [
    "trainFC"
   ]
  },
  {
   "cell_type": "code",
   "execution_count": 32,
   "metadata": {
    "collapsed": true
   },
   "outputs": [],
   "source": [
    "data = pd.DataFrame(trainFC, columns = allvars)"
   ]
  },
  {
   "cell_type": "code",
   "execution_count": 33,
   "metadata": {},
   "outputs": [
    {
     "data": {
      "text/html": [
       "<div>\n",
       "<style scoped>\n",
       "    .dataframe tbody tr th:only-of-type {\n",
       "        vertical-align: middle;\n",
       "    }\n",
       "\n",
       "    .dataframe tbody tr th {\n",
       "        vertical-align: top;\n",
       "    }\n",
       "\n",
       "    .dataframe thead th {\n",
       "        text-align: right;\n",
       "    }\n",
       "</style>\n",
       "<table border=\"1\" class=\"dataframe\">\n",
       "  <thead>\n",
       "    <tr style=\"text-align: right;\">\n",
       "      <th></th>\n",
       "      <th>lineament_dens</th>\n",
       "      <th>drainage_dens</th>\n",
       "      <th>curah_hujan</th>\n",
       "      <th>slope</th>\n",
       "      <th>elevasi</th>\n",
       "      <th>litologi_Alluvial</th>\n",
       "      <th>litologi_Batigamping</th>\n",
       "      <th>litologi_Batuan_Sedimen</th>\n",
       "      <th>litologi_Batugamping</th>\n",
       "      <th>litologi_Breksi_Gunung_Api</th>\n",
       "      <th>litologi_Breksi_dan_Piroklastik_Muda</th>\n",
       "      <th>litologi_Breksi_dan_Piroklastik_Tua</th>\n",
       "      <th>litologi_Volkanoklastik</th>\n",
       "      <th>potensi</th>\n",
       "    </tr>\n",
       "  </thead>\n",
       "  <tbody>\n",
       "    <tr>\n",
       "      <th>0</th>\n",
       "      <td>0.416742</td>\n",
       "      <td>169.963</td>\n",
       "      <td>250</td>\n",
       "      <td>3</td>\n",
       "      <td>5</td>\n",
       "      <td>0</td>\n",
       "      <td>0</td>\n",
       "      <td>1</td>\n",
       "      <td>0</td>\n",
       "      <td>0</td>\n",
       "      <td>0</td>\n",
       "      <td>0</td>\n",
       "      <td>0</td>\n",
       "      <td>1</td>\n",
       "    </tr>\n",
       "    <tr>\n",
       "      <th>1</th>\n",
       "      <td>0.416742</td>\n",
       "      <td>169.963</td>\n",
       "      <td>250</td>\n",
       "      <td>2</td>\n",
       "      <td>6</td>\n",
       "      <td>0</td>\n",
       "      <td>0</td>\n",
       "      <td>1</td>\n",
       "      <td>0</td>\n",
       "      <td>0</td>\n",
       "      <td>0</td>\n",
       "      <td>0</td>\n",
       "      <td>0</td>\n",
       "      <td>1</td>\n",
       "    </tr>\n",
       "    <tr>\n",
       "      <th>2</th>\n",
       "      <td>0.443628</td>\n",
       "      <td>169.963</td>\n",
       "      <td>250</td>\n",
       "      <td>2</td>\n",
       "      <td>6</td>\n",
       "      <td>0</td>\n",
       "      <td>0</td>\n",
       "      <td>1</td>\n",
       "      <td>0</td>\n",
       "      <td>0</td>\n",
       "      <td>0</td>\n",
       "      <td>0</td>\n",
       "      <td>0</td>\n",
       "      <td>1</td>\n",
       "    </tr>\n",
       "    <tr>\n",
       "      <th>3</th>\n",
       "      <td>0.470515</td>\n",
       "      <td>169.963</td>\n",
       "      <td>250</td>\n",
       "      <td>1</td>\n",
       "      <td>6</td>\n",
       "      <td>0</td>\n",
       "      <td>0</td>\n",
       "      <td>1</td>\n",
       "      <td>0</td>\n",
       "      <td>0</td>\n",
       "      <td>0</td>\n",
       "      <td>0</td>\n",
       "      <td>0</td>\n",
       "      <td>1</td>\n",
       "    </tr>\n",
       "    <tr>\n",
       "      <th>4</th>\n",
       "      <td>0.497401</td>\n",
       "      <td>169.963</td>\n",
       "      <td>250</td>\n",
       "      <td>2</td>\n",
       "      <td>6</td>\n",
       "      <td>0</td>\n",
       "      <td>0</td>\n",
       "      <td>1</td>\n",
       "      <td>0</td>\n",
       "      <td>0</td>\n",
       "      <td>0</td>\n",
       "      <td>0</td>\n",
       "      <td>0</td>\n",
       "      <td>1</td>\n",
       "    </tr>\n",
       "  </tbody>\n",
       "</table>\n",
       "</div>"
      ],
      "text/plain": [
       "   lineament_dens  drainage_dens  curah_hujan  slope  elevasi  \\\n",
       "0        0.416742        169.963          250      3        5   \n",
       "1        0.416742        169.963          250      2        6   \n",
       "2        0.443628        169.963          250      2        6   \n",
       "3        0.470515        169.963          250      1        6   \n",
       "4        0.497401        169.963          250      2        6   \n",
       "\n",
       "   litologi_Alluvial  litologi_Batigamping  litologi_Batuan_Sedimen  \\\n",
       "0                  0                     0                        1   \n",
       "1                  0                     0                        1   \n",
       "2                  0                     0                        1   \n",
       "3                  0                     0                        1   \n",
       "4                  0                     0                        1   \n",
       "\n",
       "   litologi_Batugamping  litologi_Breksi_Gunung_Api  \\\n",
       "0                     0                           0   \n",
       "1                     0                           0   \n",
       "2                     0                           0   \n",
       "3                     0                           0   \n",
       "4                     0                           0   \n",
       "\n",
       "   litologi_Breksi_dan_Piroklastik_Muda  litologi_Breksi_dan_Piroklastik_Tua  \\\n",
       "0                                     0                                    0   \n",
       "1                                     0                                    0   \n",
       "2                                     0                                    0   \n",
       "3                                     0                                    0   \n",
       "4                                     0                                    0   \n",
       "\n",
       "   litologi_Volkanoklastik  potensi  \n",
       "0                        0        1  \n",
       "1                        0        1  \n",
       "2                        0        1  \n",
       "3                        0        1  \n",
       "4                        0        1  "
      ]
     },
     "execution_count": 33,
     "metadata": {},
     "output_type": "execute_result"
    }
   ],
   "source": [
    "data.head()"
   ]
  },
  {
   "cell_type": "code",
   "execution_count": 35,
   "metadata": {
    "collapsed": true
   },
   "outputs": [],
   "source": [
    "# train test data split\n",
    "X_train, X_test, y_train, y_test = train_test_split(data[X], data[y], test_size=0.15, random_state=42)"
   ]
  },
  {
   "cell_type": "code",
   "execution_count": 12,
   "metadata": {},
   "outputs": [
    {
     "name": "stderr",
     "output_type": "stream",
     "text": [
      "C:\\Users\\citra\\AppData\\Local\\ESRI\\conda\\envs\\arcgispro-py3-clone1\\lib\\site-packages\\ipykernel_launcher.py:5: DataConversionWarning: A column-vector y was passed when a 1d array was expected. Please change the shape of y to (n_samples,), for example using ravel().\n",
      "  \"\"\"\n"
     ]
    },
    {
     "data": {
      "text/plain": [
       "RandomForestClassifier(bootstrap=True, class_weight=None, criterion='gini',\n",
       "            max_depth=None, max_features='auto', max_leaf_nodes=None,\n",
       "            min_impurity_decrease=0.0, min_impurity_split=None,\n",
       "            min_samples_leaf=1, min_samples_split=2,\n",
       "            min_weight_fraction_leaf=0.0, n_estimators=1000, n_jobs=1,\n",
       "            oob_score=False, random_state=None, verbose=0,\n",
       "            warm_start=False)"
      ]
     },
     "execution_count": 12,
     "metadata": {},
     "output_type": "execute_result"
    }
   ],
   "source": [
    "# make model\n",
    "clf = RandomForestClassifier(n_estimators=1000)\n",
    "\n",
    "# train model\n",
    "clf.fit(X_train, y_train)"
   ]
  },
  {
   "cell_type": "code",
   "execution_count": 13,
   "metadata": {},
   "outputs": [
    {
     "name": "stdout",
     "output_type": "stream",
     "text": [
      "0.9551724137931035\n"
     ]
    }
   ],
   "source": [
    "# predict test from train data\n",
    "y_pred = clf.predict(X_test)\n",
    "\n",
    "# print accuracy\n",
    "print(clf.score(X_test, y_test))"
   ]
  },
  {
   "cell_type": "code",
   "execution_count": 14,
   "metadata": {
    "collapsed": true
   },
   "outputs": [],
   "source": [
    "from sklearn.metrics import confusion_matrix"
   ]
  },
  {
   "cell_type": "code",
   "execution_count": 15,
   "metadata": {},
   "outputs": [
    {
     "data": {
      "text/plain": [
       "array([[151,   7],\n",
       "       [  6, 126]], dtype=int64)"
      ]
     },
     "execution_count": 15,
     "metadata": {},
     "output_type": "execute_result"
    }
   ],
   "source": [
    "confusion_matrix(y_test, y_pred)"
   ]
  },
  {
   "cell_type": "code",
   "execution_count": 17,
   "metadata": {
    "collapsed": true
   },
   "outputs": [],
   "source": [
    "from sklearn import metrics"
   ]
  },
  {
   "cell_type": "code",
   "execution_count": null,
   "metadata": {
    "collapsed": true
   },
   "outputs": [],
   "source": []
  },
  {
   "cell_type": "code",
   "execution_count": 40,
   "metadata": {
    "collapsed": true,
    "scrolled": true
   },
   "outputs": [],
   "source": [
    "y = y_test.values.ravel()\n",
    "pred = np.array(y_pred)"
   ]
  },
  {
   "cell_type": "code",
   "execution_count": 43,
   "metadata": {
    "collapsed": true
   },
   "outputs": [],
   "source": [
    "fpr, tpr, thresholds = metrics.roc_curve(y, pred, pos_label=1)"
   ]
  },
  {
   "cell_type": "code",
   "execution_count": 44,
   "metadata": {},
   "outputs": [
    {
     "data": {
      "text/plain": [
       "0.9551208285385501"
      ]
     },
     "execution_count": 44,
     "metadata": {},
     "output_type": "execute_result"
    }
   ],
   "source": [
    "metrics.auc(fpr, tpr)"
   ]
  },
  {
   "cell_type": "code",
   "execution_count": 47,
   "metadata": {},
   "outputs": [
    {
     "data": {
      "image/png": "[encoded data removed]",
      "text/plain": [
       "<Figure size 432x288 with 1 Axes>"
      ]
     },
     "metadata": {
      "needs_background": "light"
     },
     "output_type": "display_data"
    }
   ],
   "source": [
    "plt.figure()\n",
    "lw = 2\n",
    "plt.plot(fpr, tpr, color='darkorange',\n",
    "         lw=lw, label='ROC curve (area = %0.2f)' % metrics.auc(fpr, tpr))\n",
    "plt.plot([0, 1], [0, 1], color='navy', lw=lw, linestyle='--')\n",
    "plt.xlim([0.0, 1.0])\n",
    "plt.ylim([0.0, 1.05])\n",
    "plt.xlabel('False Positive Rate')\n",
    "plt.ylabel('True Positive Rate')\n",
    "plt.title('ROC')\n",
    "plt.legend(loc=\"lower right\")\n",
    "plt.show()"
   ]
  },
  {
   "cell_type": "code",
   "execution_count": 12,
   "metadata": {
    "collapsed": true
   },
   "outputs": [],
   "source": [
    "# print tree \n",
    "tree = clf.estimators_[5]\n",
    "export_graphviz(tree, out_file = 'tree.dot', feature_names = X, rounded = True, precision = 1)\n",
    "\n",
    "(graph, ) = pydot.graph_from_dot_file('tree.dot')\n",
    "# Write graph to a png file\n",
    "graph.write_png('tree.png')"
   ]
  },
  {
   "cell_type": "code",
   "execution_count": 13,
   "metadata": {
    "collapsed": true
   },
   "outputs": [],
   "source": [
    "# describe input for test data\n",
    "input_test = r'test_data'\n",
    "\n",
    "test_Data = da.FeatureClassToNumPyArray(input_test, [\"SHAPE@XY\"] + X)\n",
    "spatRef_testData = arcpy.Describe(input).spatialReference\n",
    "\n",
    "test_data_Train = pd.DataFrame(test_Data, columns= X)\n",
    "potensi_pred = clf.predict(test_data_Train)"
   ]
  },
  {
   "cell_type": "code",
   "execution_count": 14,
   "metadata": {
    "collapsed": true
   },
   "outputs": [],
   "source": [
    "# export predict result to gdb (class 1)\n",
    "nameFC = 'PotentionPrediction'\n",
    "outputDir = r'D:\\Document\\ArcGIS\\Projects\\air\\air.gdb'\n",
    "potensi_Exist = test_Data[[\"SHAPE@XY\"]][test_data_Train.index[np.where(potensi_pred==1)]]\n",
    "arcpy.da.NumPyArrayToFeatureClass(potensi_Exist, os.path.join(outputDir, nameFC), ['SHAPE@XY'], spatRef_testData)\n",
    "\n",
    "# export predict result to gdb (class 0)\n",
    "nameFC0 = 'PotentionPrediction0'\n",
    "potensi_doesntExist = test_Data[[\"SHAPE@XY\"]][test_data_Train.index[np.where(potensi_pred==0)]]\n",
    "arcpy.da.NumPyArrayToFeatureClass(potensi_doesntExist, os.path.join(outputDir, nameFC0), ['SHAPE@XY'], spatRef_testData)"
   ]
  },
  {
   "cell_type": "code",
   "execution_count": null,
   "metadata": {
    "collapsed": true
   },
   "outputs": [],
   "source": []
  }
 ],
 "metadata": {
  "kernelspec": {
   "display_name": "Python 3",
   "language": "python",
   "name": "python3"
  },
  "language_info": {
   "codemirror_mode": {
    "name": "ipython",
    "version": 3
   },
   "file_extension": ".py",
   "mimetype": "text/x-python",
   "name": "python",
   "nbconvert_exporter": "python",
   "pygments_lexer": "ipython3",
   "version": "3.6.5"
  }
 },
 "nbformat": 4,
 "nbformat_minor": 2
}
